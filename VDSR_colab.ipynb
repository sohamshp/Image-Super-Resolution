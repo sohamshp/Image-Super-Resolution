{
  "nbformat": 4,
  "nbformat_minor": 0,
  "metadata": {
    "colab": {
      "name": "VDSR_trial.ipynb",
      "version": "0.3.2",
      "views": {},
      "default_view": {},
      "provenance": [],
      "collapsed_sections": []
    },
    "kernelspec": {
      "name": "python3",
      "display_name": "Python 3"
    },
    "accelerator": "GPU"
  },
  "cells": [
    {
      "metadata": {
        "id": "0LG90wcp94J9",
        "colab_type": "code",
        "colab": {
          "autoexec": {
            "startup": false,
            "wait_interval": 0
          }
        }
      },
      "cell_type": "code",
      "source": [
        "import io\n",
        "from googleapiclient.http import MediaIoBaseDownload\n",
        "from google.colab import auth\n",
        "from googleapiclient.discovery import build\n",
        "from google.colab import files"
      ],
      "execution_count": 0,
      "outputs": []
    },
    {
      "metadata": {
        "id": "KZgzfv2T-HAO",
        "colab_type": "code",
        "colab": {
          "autoexec": {
            "startup": false,
            "wait_interval": 0
          }
        }
      },
      "cell_type": "code",
      "source": [
        "import os\n",
        "import numpy as np\n",
        "import tensorflow as tf\n",
        "import time\n",
        "import matplotlib.pyplot as plt\n",
        "from PIL import Image\n",
        "from scipy import misc\n",
        "from skimage import color\n",
        "from urllib.request import urlretrieve"
      ],
      "execution_count": 0,
      "outputs": []
    },
    {
      "metadata": {
        "id": "l0Vdqm81cGcH",
        "colab_type": "code",
        "colab": {
          "autoexec": {
            "startup": false,
            "wait_interval": 0
          }
        }
      },
      "cell_type": "code",
      "source": [
        "!rm -rf checkpoint Test Train\n",
        "!ls"
      ],
      "execution_count": 0,
      "outputs": []
    },
    {
      "metadata": {
        "id": "IVciPlfAce1d",
        "colab_type": "code",
        "colab": {
          "autoexec": {
            "startup": false,
            "wait_interval": 0
          }
        }
      },
      "cell_type": "code",
      "source": [
        "!ls"
      ],
      "execution_count": 0,
      "outputs": []
    },
    {
      "metadata": {
        "id": "Vnx-X2GO-ZTG",
        "colab_type": "code",
        "colab": {
          "autoexec": {
            "startup": false,
            "wait_interval": 0
          }
        }
      },
      "cell_type": "code",
      "source": [
        "!mkdir data"
      ],
      "execution_count": 0,
      "outputs": []
    },
    {
      "metadata": {
        "id": "dnnd5QlP-c2m",
        "colab_type": "code",
        "colab": {
          "autoexec": {
            "startup": false,
            "wait_interval": 0
          }
        }
      },
      "cell_type": "code",
      "source": [
        "data_dir = 'data'"
      ],
      "execution_count": 0,
      "outputs": []
    },
    {
      "metadata": {
        "id": "VY9i96Qp-fLd",
        "colab_type": "code",
        "colab": {
          "autoexec": {
            "startup": false,
            "wait_interval": 0
          }
        }
      },
      "cell_type": "code",
      "source": [
        "# NOT NEEDED\n",
        "### Convert img from RGB to YCbCr\n",
        "def rgb2ycbcr(im):\n",
        "    xform = np.array([[.299, .587, .114], [-.1687, -.3313, .5], [.5, -.4187, -.0813]])\n",
        "    ycbcr = im.dot(xform.T)\n",
        "    ycbcr[:,:,[1,2]] += 128\n",
        "    return np.uint8(ycbcr)\n",
        "\n",
        "### Convert img from YCbCr to RGB\n",
        "def ycbcr2rgb(im):\n",
        "    xform = np.array([[1, 0, 1.402], [1, -0.34414, -.71414], [1, 1.772, 0]])\n",
        "    rgb = im.astype(np.float)\n",
        "    rgb[:,:,[1,2]] -= 128\n",
        "    return np.uint8(rgb.dot(xform.T))"
      ],
      "execution_count": 0,
      "outputs": []
    },
    {
      "metadata": {
        "id": "j5JrO9nz-iD_",
        "colab_type": "code",
        "colab": {
          "autoexec": {
            "startup": false,
            "wait_interval": 0
          }
        }
      },
      "cell_type": "code",
      "source": [
        "### Function to measure PSNR\n",
        "def psnr(x, y, maximum=255.0):\n",
        "    return 20 * np.log10(maximum / np.sqrt(np.mean((x - y) ** 2)))"
      ],
      "execution_count": 0,
      "outputs": []
    },
    {
      "metadata": {
        "id": "qMYw7rWz-jqa",
        "colab_type": "code",
        "colab": {
          "autoexec": {
            "startup": false,
            "wait_interval": 0
          }
        }
      },
      "cell_type": "code",
      "source": [
        "train_zip_url = 'https://cv.snu.ac.kr/research/VDSR/train_data.zip'\n",
        "test_zip_url = 'https://cv.snu.ac.kr/research/VDSR/test_data.zip'"
      ],
      "execution_count": 0,
      "outputs": []
    },
    {
      "metadata": {
        "id": "8lN9BqMGTOB4",
        "colab_type": "code",
        "colab": {
          "autoexec": {
            "startup": false,
            "wait_interval": 0
          }
        }
      },
      "cell_type": "code",
      "source": [
        "!ls"
      ],
      "execution_count": 0,
      "outputs": []
    },
    {
      "metadata": {
        "id": "DzKWBENXTuFO",
        "colab_type": "code",
        "colab": {
          "autoexec": {
            "startup": false,
            "wait_interval": 0
          }
        }
      },
      "cell_type": "code",
      "source": [
        "!rm -rf log\n",
        "!rm -rf model\n",
        "!mkdir model\n",
        "!mkdir log\n",
        "!ls"
      ],
      "execution_count": 0,
      "outputs": []
    },
    {
      "metadata": {
        "id": "74ZJMD_W-_6w",
        "colab_type": "code",
        "colab": {
          "autoexec": {
            "startup": false,
            "wait_interval": 0
          }
        }
      },
      "cell_type": "code",
      "source": [
        "!wget https://cv.snu.ac.kr/research/VDSR/train_data.zip"
      ],
      "execution_count": 0,
      "outputs": []
    },
    {
      "metadata": {
        "id": "sC1oEBFP_aCR",
        "colab_type": "code",
        "colab": {
          "autoexec": {
            "startup": false,
            "wait_interval": 0
          }
        }
      },
      "cell_type": "code",
      "source": [
        "!wget https://cv.snu.ac.kr/research/VDSR/test_data.zip"
      ],
      "execution_count": 0,
      "outputs": []
    },
    {
      "metadata": {
        "id": "mIJ4XOt4_jEA",
        "colab_type": "code",
        "colab": {
          "autoexec": {
            "startup": false,
            "wait_interval": 0
          }
        }
      },
      "cell_type": "code",
      "source": [
        "!unzip test_data.zip\n",
        "!unzip train_data.zip"
      ],
      "execution_count": 0,
      "outputs": []
    },
    {
      "metadata": {
        "id": "OZdfu9Qr_rP5",
        "colab_type": "code",
        "colab": {
          "autoexec": {
            "startup": false,
            "wait_interval": 0
          }
        }
      },
      "cell_type": "code",
      "source": [
        "!mv 291 data/\n",
        "!mv 91 data/\n",
        "!mv B100 data/\n",
        "!mv Set5 data/\n",
        "!mv Set14 data/\n",
        "!mv Urban100 data/"
      ],
      "execution_count": 0,
      "outputs": []
    },
    {
      "metadata": {
        "id": "8kG4DZEL_5Vf",
        "colab_type": "code",
        "colab": {
          "autoexec": {
            "startup": false,
            "wait_interval": 0
          }
        }
      },
      "cell_type": "code",
      "source": [
        "!ls data"
      ],
      "execution_count": 0,
      "outputs": []
    },
    {
      "metadata": {
        "id": "-FKKAVVPoi9l",
        "colab_type": "text"
      },
      "cell_type": "markdown",
      "source": [
        "#### upload previous checkpoint as zip"
      ]
    },
    {
      "metadata": {
        "id": "xUkOmVQvoieD",
        "colab_type": "code",
        "colab": {
          "autoexec": {
            "startup": false,
            "wait_interval": 0
          }
        }
      },
      "cell_type": "code",
      "source": [
        "from google.colab import files\n",
        "\n",
        "uploaded = files.upload()\n",
        "\n",
        "for fn in uploaded.keys():\n",
        "  print('User uploaded file \"{name}\" with length {length} bytes'.format(\n",
        "      name=fn, length=len(uploaded[fn])))"
      ],
      "execution_count": 0,
      "outputs": []
    },
    {
      "metadata": {
        "id": "psYDltrcpLS0",
        "colab_type": "code",
        "colab": {
          "autoexec": {
            "startup": false,
            "wait_interval": 0
          }
        }
      },
      "cell_type": "code",
      "source": [
        "!unzip model_VDSR_ckpt24.zip"
      ],
      "execution_count": 0,
      "outputs": []
    },
    {
      "metadata": {
        "id": "dXGnrJaupWKe",
        "colab_type": "code",
        "colab": {
          "autoexec": {
            "startup": false,
            "wait_interval": 0
          }
        }
      },
      "cell_type": "code",
      "source": [
        "!ls data"
      ],
      "execution_count": 0,
      "outputs": []
    },
    {
      "metadata": {
        "id": "WwD8lE_SAKFo",
        "colab_type": "code",
        "colab": {
          "autoexec": {
            "startup": false,
            "wait_interval": 0
          }
        }
      },
      "cell_type": "code",
      "source": [
        "train_benchmark = '91'   # ['91/', '291/']\n",
        "test_benchmark = 'Set5'  # ['Set5/', 'Set14/', 'B100/', 'Urban100/']\n",
        "batch_size = 64\n",
        "patch_size = 41\n",
        "scaling_factors = (2, 3, 4)\n",
        "num_epoch = 1\n",
        "weight_decay = 0.0001\n",
        "gradient_clipping = 0.9"
      ],
      "execution_count": 0,
      "outputs": []
    },
    {
      "metadata": {
        "id": "E8OMxBXeAfQ-",
        "colab_type": "code",
        "colab": {
          "autoexec": {
            "startup": false,
            "wait_interval": 0
          }
        }
      },
      "cell_type": "code",
      "source": [
        "train_dir = os.path.join(data_dir, train_benchmark)\n",
        "test_dir = os.path.join(data_dir, test_benchmark)\n",
        "\n",
        "images, targets = [], []\n",
        "test_images, test_targets = [], []"
      ],
      "execution_count": 0,
      "outputs": []
    },
    {
      "metadata": {
        "id": "uJqyTAkIAwcl",
        "colab_type": "code",
        "colab": {
          "autoexec": {
            "startup": false,
            "wait_interval": 0
          }
        }
      },
      "cell_type": "code",
      "source": [
        "for image_file in os.listdir(train_dir): # INPUT AND PREPROCESS IMAGES\n",
        "    image = misc.imread(os.path.join(train_dir, image_file))\n",
        "    if len(image.shape) == 3:\n",
        "        image = color.rgb2ycbcr(image)[:,:,0].astype(np.uint8)\n",
        "    width, height = image.shape\n",
        "    width = width - width % 12\n",
        "    height = height - height % 12\n",
        "    n_horizontal_patches = width // patch_size\n",
        "    n_vertical_patches = height // patch_size\n",
        "    image = image[:width, :height]\n",
        "    \n",
        "    for scaling_factor in scaling_factors:\n",
        "        downscaled = misc.imresize(image, 1./scaling_factor, 'bicubic', mode='L')\n",
        "        rescaled = misc.imresize(downscaled, float(scaling_factor), 'bicubic', mode='L')\n",
        "        hr_image = image.astype(np.float32) / 255\n",
        "        lr_image = np.clip(rescaled.astype(np.float32) / 255, 0.0, 1.0)\n",
        "        \n",
        "        for horizontal_patch in range(n_horizontal_patches):\n",
        "            for vertical_patch in range(n_vertical_patches):\n",
        "                h_start = horizontal_patch * patch_size\n",
        "                v_start = vertical_patch * patch_size\n",
        "                hr_patch = hr_image[h_start:h_start+patch_size, v_start:v_start+patch_size]\n",
        "                lr_patch = lr_image[h_start:h_start+patch_size, v_start:v_start+patch_size]\n",
        "                \n",
        "                '''\n",
        "                for _ in range(4):\n",
        "                    hr_patch = np.rot90(hr_patch)\n",
        "                    lr_patch = np.rot90(lr_patch)\n",
        "                    targets.append(np.expand_dims(hr_patch, axis=2))\n",
        "                    images.append(np.expand_dims(lr_patch, axis=2))\n",
        "                \n",
        "                lr_patch = np.fliplr(lr_patch)\n",
        "                hr_patch = np.fliplr(hr_patch)\n",
        "                \n",
        "                for _ in range(4):\n",
        "                    hr_patch = np.rot90(hr_patch)\n",
        "                    lr_patch = np.rot90(lr_patch)\n",
        "                    targets.append(np.expand_dims(hr_patch, axis=2))\n",
        "                    images.append(np.expand_dims(lr_patch, axis=2))\n",
        "                '''\n",
        "                \n",
        "                targets.append(np.expand_dims(hr_patch, axis=2))\n",
        "                images.append(np.expand_dims(lr_patch, axis=2))"
      ],
      "execution_count": 0,
      "outputs": []
    },
    {
      "metadata": {
        "id": "Onu6JJjsB5U-",
        "colab_type": "code",
        "colab": {
          "autoexec": {
            "startup": false,
            "wait_interval": 0
          }
        }
      },
      "cell_type": "code",
      "source": [
        "images = np.array(images)\n",
        "targets = np.array(targets)\n",
        "print(images.shape)"
      ],
      "execution_count": 0,
      "outputs": []
    },
    {
      "metadata": {
        "id": "tecRPcgFCN6a",
        "colab_type": "code",
        "colab": {
          "autoexec": {
            "startup": false,
            "wait_interval": 0
          }
        }
      },
      "cell_type": "code",
      "source": [
        "# SHUFFLE IMAGES\n",
        "indices = list(range(len(images)))\n",
        "np.random.shuffle(indices)\n",
        "images = images[indices]\n",
        "targets = targets[indices]"
      ],
      "execution_count": 0,
      "outputs": []
    },
    {
      "metadata": {
        "id": "XFcNIFsTCh_j",
        "colab_type": "code",
        "colab": {
          "autoexec": {
            "startup": false,
            "wait_interval": 0
          }
        }
      },
      "cell_type": "code",
      "source": [
        "length = len(images)\n",
        "length -= length % batch_size\n",
        "images = images[:length]\n",
        "targets = targets[:length]\n",
        "print('Number of training images after batch approximation: [{}]'.format(length))"
      ],
      "execution_count": 0,
      "outputs": []
    },
    {
      "metadata": {
        "id": "qbFUYqQjCz0t",
        "colab_type": "code",
        "colab": {
          "autoexec": {
            "startup": false,
            "wait_interval": 0
          }
        }
      },
      "cell_type": "code",
      "source": [
        "test_images = []\n",
        "test_targets = []\n",
        "test_images_scaled = [[] for s in range(len(scaling_factors))]\n",
        "test_targets_scaled = [[] for s in range(len(scaling_factors))]\n",
        "scaling_diff = min(scaling_factors)\n",
        "\n",
        "for image_file in os.listdir(test_dir):\n",
        "    image = misc.imread(os.path.join(test_dir, image_file))\n",
        "    width, height = image.shape[0], image.shape[1]\n",
        "    width = width - width % 12\n",
        "    height = height - height % 12\n",
        "    image = image[:width, :height]\n",
        "    \n",
        "    if len(image.shape) == 3:\n",
        "        ycbcr = color.rgb2ycbcr(image)\n",
        "        y = ycbcr[:,:,0].astype(np.uint8)\n",
        "    else:\n",
        "        y = image\n",
        "    \n",
        "    for scaling_factor in scaling_factors:\n",
        "        downscaled = misc.imresize(y, 1./scaling_factor, 'bicubic', mode='L')\n",
        "        rescaled = misc.imresize(downscaled, float(scaling_factor), 'bicubic', mode='L')\n",
        "        \n",
        "        if len(image.shape) == 3:\n",
        "            lr_image = ycbcr\n",
        "            lr_image[:,:,0] = rescaled\n",
        "            lr_image = color.ycbcr2rgb(lr_image)\n",
        "            lr_image = (np.clip(lr_image, 0.0, 1.0) * 255).astype(np.uint8)\n",
        "        else:\n",
        "            lr_image = rescaled\n",
        "        \n",
        "        test_images.append(lr_image)\n",
        "        test_targets.append(image)\n",
        "        #test_images_scaled[scaling_factor-scaling_diff].append(lr_image)\n",
        "        #test_targets_scaled[scaling_factor-scaling_diff].append(image)\n",
        "'''\n",
        "for imgs in test_images_scaled:\n",
        "    for img in imgs:\n",
        "        test_images.append(img)\n",
        "for imgs in test_targets_scaled:\n",
        "    for img in imgs:\n",
        "        test_targets.append(imgs)\n",
        "'''"
      ],
      "execution_count": 0,
      "outputs": []
    },
    {
      "metadata": {
        "id": "3XnD3n6OC1rJ",
        "colab_type": "code",
        "colab": {
          "autoexec": {
            "startup": false,
            "wait_interval": 0
          }
        }
      },
      "cell_type": "code",
      "source": [
        "t_length = len(test_images)\n",
        "print('Number of test images: [{}]'.format(t_length))\n",
        "\n",
        "test_images = np.array(test_images)\n",
        "test_targets = np.array(test_targets)"
      ],
      "execution_count": 0,
      "outputs": []
    },
    {
      "metadata": {
        "id": "SE-_HlTyNCjT",
        "colab_type": "code",
        "colab": {
          "autoexec": {
            "startup": false,
            "wait_interval": 0
          }
        }
      },
      "cell_type": "code",
      "source": [
        "test_images.shape"
      ],
      "execution_count": 0,
      "outputs": []
    },
    {
      "metadata": {
        "id": "wHA0HPNuDNAS",
        "colab_type": "code",
        "colab": {
          "autoexec": {
            "startup": false,
            "wait_interval": 0
          }
        }
      },
      "cell_type": "code",
      "source": [
        "num_layers = 20\n",
        "k_size = 3\n",
        "num_filters = 64\n",
        "learning_rate_decay = 0.1\n",
        "g_learning_rate = 1e-4\n",
        "learning_rate_decay_step = 20"
      ],
      "execution_count": 0,
      "outputs": []
    },
    {
      "metadata": {
        "id": "BF961QyZDkfk",
        "colab_type": "code",
        "colab": {
          "autoexec": {
            "startup": false,
            "wait_interval": 0
          }
        }
      },
      "cell_type": "code",
      "source": [
        "input = tf.placeholder(tf.float32)\n",
        "ground_truth = tf.placeholder(tf.float32)\n",
        "learning_rate = tf.placeholder(tf.float32, shape=[])\n",
        "global_step = tf.Variable(0, trainable=False, name='global_step')"
      ],
      "execution_count": 0,
      "outputs": []
    },
    {
      "metadata": {
        "id": "GoaNKAHYEAR6",
        "colab_type": "code",
        "colab": {
          "autoexec": {
            "startup": false,
            "wait_interval": 0
          }
        }
      },
      "cell_type": "code",
      "source": [
        "weights, biases = [], []"
      ],
      "execution_count": 0,
      "outputs": []
    },
    {
      "metadata": {
        "id": "Cde9XDFYEDMx",
        "colab_type": "code",
        "colab": {
          "autoexec": {
            "startup": false,
            "wait_interval": 0
          }
        }
      },
      "cell_type": "code",
      "source": [
        "output = input\n",
        "for i in range(num_layers):\n",
        "  if i == 0:\n",
        "    in_shape = 1\n",
        "  else:\n",
        "    in_shape = num_filters\n",
        "  \n",
        "  if i == num_layers - 1:\n",
        "    out_shape = 1\n",
        "  else:\n",
        "    out_shape = num_filters\n",
        "  \n",
        "  weight = tf.Variable(tf.random_normal([k_size, k_size, in_shape, out_shape],\n",
        "                                       stddev=np.sqrt(2/(k_size**2*in_shape))))\n",
        "  bias = tf.Variable(tf.zeros([out_shape]))\n",
        "  \n",
        "  weights.append(weight)\n",
        "  biases.append(bias)\n",
        "  \n",
        "  output = tf.nn.bias_add(tf.nn.conv2d(output, weight, strides=[1,1,1,1], padding='SAME'), bias)\n",
        "  if i < num_layers - 1:\n",
        "    output = tf.nn.relu(output)\n",
        "\n",
        "residual = output\n",
        "output = tf.add(output, input)"
      ],
      "execution_count": 0,
      "outputs": []
    },
    {
      "metadata": {
        "id": "CbtBOpwTFSE3",
        "colab_type": "code",
        "colab": {
          "autoexec": {
            "startup": false,
            "wait_interval": 0
          }
        }
      },
      "cell_type": "code",
      "source": [
        "base_loss = tf.reduce_sum(tf.nn.l2_loss(tf.subtract(output, ground_truth)))\n",
        "weight_loss = weight_decay * tf.reduce_sum(tf.stack([tf.nn.l2_loss(weight) for weight in weights]))\n",
        "loss = base_loss + weight_loss\n",
        "validation_score = tf.placeholder(tf.float32)"
      ],
      "execution_count": 0,
      "outputs": []
    },
    {
      "metadata": {
        "id": "cSsVWgrjMSxw",
        "colab_type": "code",
        "colab": {
          "autoexec": {
            "startup": false,
            "wait_interval": 0
          }
        }
      },
      "cell_type": "code",
      "source": [
        "tf.summary.scalar('base loss', base_loss)\n",
        "tf.summary.scalar('weight loss', weight_loss)\n",
        "tf.summary.scalar('total loss', loss)\n",
        "tf.summary.scalar('learning rate', learning_rate)\n",
        "tf.summary.scalar('validation score', validation_score)\n",
        "tf.summary.image('input', input, max_outputs=15)\n",
        "tf.summary.image('output', output, max_outputs=15)\n",
        "tf.summary.image('ground truth', ground_truth, max_outputs=15)\n",
        "tf.summary.image('residual', residual, max_outputs=15)"
      ],
      "execution_count": 0,
      "outputs": []
    },
    {
      "metadata": {
        "id": "-V6tnp69MVZi",
        "colab_type": "code",
        "colab": {
          "autoexec": {
            "startup": false,
            "wait_interval": 0
          }
        }
      },
      "cell_type": "code",
      "source": [
        "for i in range(len(weights)):\n",
        "    tf.summary.histogram('weights/layer #%d' % (i + 1), weights[i])\n",
        "    tf.summary.histogram('biases/layer #%d' % (i + 1), biases[i])"
      ],
      "execution_count": 0,
      "outputs": []
    },
    {
      "metadata": {
        "id": "340Jqu45MX98",
        "colab_type": "code",
        "colab": {
          "autoexec": {
            "startup": false,
            "wait_interval": 0
          }
        }
      },
      "cell_type": "code",
      "source": [
        "summary_step = tf.summary.merge_all()\n",
        "saver = tf.train.Saver(max_to_keep=10)"
      ],
      "execution_count": 0,
      "outputs": []
    },
    {
      "metadata": {
        "id": "NeT3-K-NNKbm",
        "colab_type": "code",
        "colab": {
          "autoexec": {
            "startup": false,
            "wait_interval": 0
          }
        }
      },
      "cell_type": "code",
      "source": [
        "optimizer = tf.train.AdamOptimizer(learning_rate)\n",
        "gradients = optimizer.compute_gradients(loss)\n",
        "clip_value = gradient_clipping / learning_rate\n",
        "#capped_gradients = [(tf.clip_by_value(grad, -clip_value, clip_value), var) for grad, var in gradients]\n",
        "capped_gradients = list(map(lambda grad: grad if grad[0] is None else (tf.clip_by_value(grad[0], -clip_value, clip_value), grad[1]), gradients))\n",
        "train_step = optimizer.apply_gradients(capped_gradients, global_step=global_step)"
      ],
      "execution_count": 0,
      "outputs": []
    },
    {
      "metadata": {
        "id": "1CHswUEUNOF4",
        "colab_type": "code",
        "colab": {
          "autoexec": {
            "startup": false,
            "wait_interval": 0
          }
        }
      },
      "cell_type": "code",
      "source": [
        "checkpoint_path = os.path.join(data_dir, 'model')\n",
        "model_path = os.path.join(checkpoint_path, 'model.ckpt')\n",
        "log_path = os.path.join(data_dir, 'log')"
      ],
      "execution_count": 0,
      "outputs": []
    },
    {
      "metadata": {
        "id": "ZEAj7pVnNVQj",
        "colab_type": "code",
        "colab": {
          "autoexec": {
            "startup": false,
            "wait_interval": 0
          }
        }
      },
      "cell_type": "code",
      "source": [
        "summary_writer = tf.summary.FileWriter(log_path)"
      ],
      "execution_count": 0,
      "outputs": []
    },
    {
      "metadata": {
        "id": "mITE4GnZNeL8",
        "colab_type": "code",
        "colab": {
          "autoexec": {
            "startup": false,
            "wait_interval": 0
          }
        }
      },
      "cell_type": "code",
      "source": [
        "for path in [checkpoint_path, log_path]:\n",
        "    if not os.path.exists(path):\n",
        "        os.mkdir(path)"
      ],
      "execution_count": 0,
      "outputs": []
    },
    {
      "metadata": {
        "id": "diZMhg9_5N8r",
        "colab_type": "code",
        "colab": {
          "autoexec": {
            "startup": false,
            "wait_interval": 0
          }
        }
      },
      "cell_type": "code",
      "source": [
        "def predict(sess, output, images, targets, border=0):\n",
        "    predictions = []\n",
        "    psnr_arr = []\n",
        "    \n",
        "    for i in range(len(images)):\n",
        "        image = images[i]\n",
        "        if len(image.shape) == 3:\n",
        "            image_ycbcr = color.rgb2ycbcr(image)\n",
        "            image_y = image_ycbcr[:,:,0]\n",
        "        else:\n",
        "            image_y = image.copy()\n",
        "        \n",
        "        image_y = image_y.astype(np.float) / 255\n",
        "        reshaped_image_y = np.array([np.expand_dims(image_y, axis=2)])\n",
        "        #print(reshaped_image_y)\n",
        "        prediction = output.eval(feed_dict={input: reshaped_image_y}, session=sess)[0]\n",
        "        if np.isnan(prediction[0,0,0]):\n",
        "            print('problem.....')\n",
        "        prediction *= 255\n",
        "        \n",
        "        if len(targets[i].shape) == 3:\n",
        "            target_y = color.rgb2ycbcr(targets[i])[:,:,0]\n",
        "        else:\n",
        "            target_y = targets[i].copy()\n",
        "        #psnr_arr.append(psnr(np.array(prediction[:,:,0]),np.array(target_y)))\n",
        "        '''20 * np.log10(maximum / np.sqrt(np.mean((x - y) ** 2)))'''\n",
        "        psnr_val = 20 * np.log10(255.0 / np.sqrt(np.mean((prediction.squeeze() - target_y) ** 2)))\n",
        "        #print(prediction[:,:,0],target_y)\n",
        "        #print('val {}: [{}]'.format(i, psnr_val))\n",
        "        psnr_arr.append(psnr_val)\n",
        "            \n",
        "        if len(image.shape) == 3:\n",
        "            prediction = color.ycbcr2rgb(np.concatenate((prediction, image_ycbcr[:,:,1:3]), axis=2)) * 255\n",
        "        else:\n",
        "            prediction = prediction[:,:,0]\n",
        "        \n",
        "        prediction = np.clip(prediction, 0, 255).astype(np.uint8)\n",
        "        predictions.append(prediction)\n",
        "    return predictions, psnr_arr"
      ],
      "execution_count": 0,
      "outputs": []
    },
    {
      "metadata": {
        "id": "Wk2ewBnOfYJG",
        "colab_type": "code",
        "colab": {
          "autoexec": {
            "startup": false,
            "wait_interval": 0
          }
        }
      },
      "cell_type": "code",
      "source": [
        "config = tf.ConfigProto(device_count = {'GPU': 0})\n",
        "config.gpu_options.allow_growth = True"
      ],
      "execution_count": 0,
      "outputs": []
    },
    {
      "metadata": {
        "id": "0oEGn5ecJC6-",
        "colab_type": "code",
        "colab": {
          "autoexec": {
            "startup": false,
            "wait_interval": 0
          }
        }
      },
      "cell_type": "code",
      "source": [
        "num_epoch = 25"
      ],
      "execution_count": 0,
      "outputs": []
    },
    {
      "metadata": {
        "id": "0Q5PbBSwi-zP",
        "colab_type": "code",
        "colab": {
          "autoexec": {
            "startup": false,
            "wait_interval": 0
          }
        }
      },
      "cell_type": "code",
      "source": [
        "!mkdir output_vdsr"
      ],
      "execution_count": 0,
      "outputs": []
    },
    {
      "metadata": {
        "id": "nDEyCyeBg4Hq",
        "colab_type": "code",
        "colab": {
          "autoexec": {
            "startup": false,
            "wait_interval": 0
          }
        }
      },
      "cell_type": "code",
      "source": [
        "### SAVE IMAGES\n",
        "\n",
        "images_completed = 0\n",
        "epochs_completed = 0\n",
        "t_images_completed = 0\n",
        "\n",
        "increment_global_step_op = tf.assign(global_step, global_step+1)\n",
        "assign_global_zero_op = tf.assign(global_step, tf.constant(0))\n",
        "\n",
        "start_time = time.time()\n",
        "epoch_time = start_time\n",
        "\n",
        "with tf.Session(config=config) as sess:\n",
        "    checkpoint = tf.train.get_checkpoint_state(checkpoint_path)\n",
        "    if checkpoint and checkpoint.model_checkpoint_path:\n",
        "        print('Restoring model...')\n",
        "        sess.run(tf.global_variables_initializer())\n",
        "        saver.restore(sess, checkpoint.model_checkpoint_path)\n",
        "        print(global_step.value())\n",
        "        print('Restore complete...')\n",
        "        #sess.run(assign_global_zero_op)\n",
        "    else:\n",
        "        print('New model...')\n",
        "        sess.run(tf.global_variables_initializer())\n",
        "        print('Initialization complete...')\n",
        "    \n",
        "    print('Training...')\n",
        "    while tf.train.global_step(sess, global_step) * batch_size < length * num_epoch:\n",
        "        predictions, psnr = predict(sess, output, test_images, targets=test_targets)\n",
        "        pp = np.array(predictions)\n",
        "        #print(pp[0])\n",
        "        #plt.imshow(pp[0])\n",
        "        for i in range(15):\n",
        "            misc.imsave('output_vdsr/image_{}.png'.format(i), pp[i])\n",
        "        break\n",
        "        '''\n",
        "        batch = tf.train.global_step(sess, global_step)\n",
        "        epoch = batch * batch_size / length\n",
        "        \n",
        "        x = images[images_completed: images_completed+batch_size]\n",
        "        y = targets[images_completed: images_completed+batch_size]\n",
        "        \n",
        "        images_completed += batch_size\n",
        "        \n",
        "        if images_completed >= length:\n",
        "            images_completed = 0\n",
        "            epochs_completed += 1\n",
        "\n",
        "        current_learning_rate = g_learning_rate * learning_rate_decay ** (epoch // learning_rate_decay_step)\n",
        "        feed_dict = {input: x, ground_truth: y, learning_rate: current_learning_rate}\n",
        "        \n",
        "        print('batch no.: [{}], images completed: [{}/{}]'.format(batch, images_completed+batch_size, length))\n",
        "        \n",
        "        if batch * batch_size % length == 0:\n",
        "            print('Processing epoch #{}, Total epoch time: [{}]'.format(epoch + 1, time.time()-epoch_time))\n",
        "            epoch_time = time.time()\n",
        "            sess.run(increment_global_step_op)\n",
        "            predictions, psnr = predict(sess, output, test_images, targets=test_targets)\n",
        "            feed_dict[validation_score] = np.mean(psnr)\n",
        "            print('Current PSNR: [{}], Average PSNR: [{}]'.format(psnr, feed_dict[validation_score]))\n",
        "            _, summary = sess.run([train_step, summary_step], feed_dict=feed_dict)\n",
        "            saver.save(sess, model_path)\n",
        "            summary_writer.add_summary(summary, epoch)\n",
        "        else:\n",
        "            print('Training epoch #{}, Time: [{}]'.format(epoch + 1, time.time()-start_time))\n",
        "            sess.run([train_step], feed_dict=feed_dict)\n",
        "            #predictions, psnr = predict(sess, output, test_images, targets=test_targets)\n",
        "            #feed_dict[validation_score] = np.mean(psnr)\n",
        "            #print('Current PSNR: [{}], Average PSNR: [{}]'.format(psnr, feed_dict[validation_score]))\n",
        "        if batch % 10 == 0:\n",
        "            saver.save(sess, model_path)\n",
        "    saver.save(sess, model_path)\n",
        "    '''\n",
        "#num_epoch += 1"
      ],
      "execution_count": 0,
      "outputs": []
    },
    {
      "metadata": {
        "id": "PQagyxtuNvSn",
        "colab_type": "code",
        "colab": {
          "autoexec": {
            "startup": false,
            "wait_interval": 0
          }
        }
      },
      "cell_type": "code",
      "source": [
        "images_completed = 0\n",
        "epochs_completed = 0\n",
        "t_images_completed = 0\n",
        "\n",
        "increment_global_step_op = tf.assign(global_step, global_step+1)\n",
        "assign_global_zero_op = tf.assign(global_step, tf.constant(0))\n",
        "\n",
        "start_time = time.time()\n",
        "epoch_time = start_time\n",
        "\n",
        "with tf.Session(config=config) as sess:\n",
        "    checkpoint = tf.train.get_checkpoint_state(checkpoint_path)\n",
        "    if checkpoint and checkpoint.model_checkpoint_path:\n",
        "        print('Restoring model...')\n",
        "        sess.run(tf.global_variables_initializer())\n",
        "        saver.restore(sess, checkpoint.model_checkpoint_path)\n",
        "        print(global_step.value())\n",
        "        print('Restore complete...')\n",
        "        #sess.run(assign_global_zero_op)\n",
        "    else:\n",
        "        print('New model...')\n",
        "        sess.run(tf.global_variables_initializer())\n",
        "        print('Initialization complete...')\n",
        "    \n",
        "    print('Training...')\n",
        "    while tf.train.global_step(sess, global_step) * batch_size < length * num_epoch:\n",
        "        batch = tf.train.global_step(sess, global_step)\n",
        "        epoch = batch * batch_size / length\n",
        "        \n",
        "        x = images[images_completed: images_completed+batch_size]\n",
        "        y = targets[images_completed: images_completed+batch_size]\n",
        "        \n",
        "        images_completed += batch_size\n",
        "        \n",
        "        if images_completed >= length:\n",
        "            images_completed = 0\n",
        "            epochs_completed += 1\n",
        "\n",
        "        current_learning_rate = g_learning_rate * learning_rate_decay ** (epoch // learning_rate_decay_step)\n",
        "        feed_dict = {input: x, ground_truth: y, learning_rate: current_learning_rate}\n",
        "        \n",
        "        print('batch no.: [{}], images completed: [{}/{}]'.format(batch, images_completed+batch_size, length))\n",
        "        \n",
        "        if batch * batch_size % length == 0:\n",
        "            print('Processing epoch #{}, Total epoch time: [{}]'.format(epoch + 1, time.time()-epoch_time))\n",
        "            epoch_time = time.time()\n",
        "            sess.run(increment_global_step_op)\n",
        "            predictions, psnr = predict(sess, output, test_images, targets=test_targets)\n",
        "            feed_dict[validation_score] = np.mean(psnr)\n",
        "            print('Current PSNR: [{}], Average PSNR: [{}]'.format(psnr, feed_dict[validation_score]))\n",
        "            _, summary = sess.run([train_step, summary_step], feed_dict=feed_dict)\n",
        "            saver.save(sess, model_path)\n",
        "            summary_writer.add_summary(summary, epoch)\n",
        "        else:\n",
        "            print('Training epoch #{}, Time: [{}]'.format(epoch + 1, time.time()-start_time))\n",
        "            sess.run([train_step], feed_dict=feed_dict)\n",
        "            #predictions, psnr = predict(sess, output, test_images, targets=test_targets)\n",
        "            #feed_dict[validation_score] = np.mean(psnr)\n",
        "            #print('Current PSNR: [{}], Average PSNR: [{}]'.format(psnr, feed_dict[validation_score]))\n",
        "        if batch % 10 == 0:\n",
        "            saver.save(sess, model_path)\n",
        "    saver.save(sess, model_path)\n",
        "num_epoch += 1"
      ],
      "execution_count": 0,
      "outputs": []
    },
    {
      "metadata": {
        "id": "YjuoKqJZS5oZ",
        "colab_type": "code",
        "colab": {
          "autoexec": {
            "startup": false,
            "wait_interval": 0
          }
        }
      },
      "cell_type": "code",
      "source": [
        ""
      ],
      "execution_count": 0,
      "outputs": []
    },
    {
      "metadata": {
        "id": "hiUcb-3TTNs9",
        "colab_type": "code",
        "colab": {
          "autoexec": {
            "startup": false,
            "wait_interval": 0
          }
        }
      },
      "cell_type": "code",
      "source": [
        "num_epoch"
      ],
      "execution_count": 0,
      "outputs": []
    },
    {
      "metadata": {
        "id": "176_OtVj-ZHq",
        "colab_type": "code",
        "colab": {
          "autoexec": {
            "startup": false,
            "wait_interval": 0
          }
        }
      },
      "cell_type": "code",
      "source": [
        "!ls data"
      ],
      "execution_count": 0,
      "outputs": []
    },
    {
      "metadata": {
        "id": "cclTh8Yi4h67",
        "colab_type": "code",
        "colab": {
          "autoexec": {
            "startup": false,
            "wait_interval": 0
          }
        }
      },
      "cell_type": "code",
      "source": [
        "!zip -r model_VDSR_ckpt31.zip data/model data/log"
      ],
      "execution_count": 0,
      "outputs": []
    },
    {
      "metadata": {
        "id": "iP0D9kzn4pcq",
        "colab_type": "code",
        "colab": {
          "autoexec": {
            "startup": false,
            "wait_interval": 0
          }
        }
      },
      "cell_type": "code",
      "source": [
        "files.download('model_VDSR_ckpt31.zip')"
      ],
      "execution_count": 0,
      "outputs": []
    },
    {
      "metadata": {
        "id": "nbj91bH2-gtq",
        "colab_type": "code",
        "colab": {
          "autoexec": {
            "startup": false,
            "wait_interval": 0
          }
        }
      },
      "cell_type": "code",
      "source": [
        "!ls tmp/"
      ],
      "execution_count": 0,
      "outputs": []
    },
    {
      "metadata": {
        "id": "gbZPOD0n-2Sy",
        "colab_type": "code",
        "colab": {
          "autoexec": {
            "startup": false,
            "wait_interval": 0
          }
        }
      },
      "cell_type": "code",
      "source": [
        "!tensorboard --logdir=data/log"
      ],
      "execution_count": 0,
      "outputs": []
    },
    {
      "metadata": {
        "id": "3V7QKXdw_FJR",
        "colab_type": "code",
        "colab": {
          "autoexec": {
            "startup": false,
            "wait_interval": 0
          }
        }
      },
      "cell_type": "code",
      "source": [
        "!zip -r log.zip log"
      ],
      "execution_count": 0,
      "outputs": []
    },
    {
      "metadata": {
        "id": "gH9RgNVv_ONh",
        "colab_type": "code",
        "colab": {
          "autoexec": {
            "startup": false,
            "wait_interval": 0
          }
        }
      },
      "cell_type": "code",
      "source": [
        "files.download('log.zip')"
      ],
      "execution_count": 0,
      "outputs": []
    },
    {
      "metadata": {
        "id": "jzmRhWa0_Sdh",
        "colab_type": "code",
        "colab": {
          "autoexec": {
            "startup": false,
            "wait_interval": 0
          }
        }
      },
      "cell_type": "code",
      "source": [
        "!rm -rf log.zip"
      ],
      "execution_count": 0,
      "outputs": []
    },
    {
      "metadata": {
        "id": "7Nbj1w4H_iCJ",
        "colab_type": "code",
        "colab": {
          "autoexec": {
            "startup": false,
            "wait_interval": 0
          }
        }
      },
      "cell_type": "code",
      "source": [
        "!mkdir tmp\n",
        "!mkdir tmp/log\n",
        "!cp -r data/log tmp/log"
      ],
      "execution_count": 0,
      "outputs": []
    },
    {
      "metadata": {
        "id": "jF1PJBoiklPE",
        "colab_type": "code",
        "colab": {
          "autoexec": {
            "startup": false,
            "wait_interval": 0
          }
        }
      },
      "cell_type": "code",
      "source": [
        "!zip -r output_vdsr.zip output_vdsr"
      ],
      "execution_count": 0,
      "outputs": []
    },
    {
      "metadata": {
        "id": "EuTdI42Vkz8_",
        "colab_type": "code",
        "colab": {
          "autoexec": {
            "startup": false,
            "wait_interval": 0
          }
        }
      },
      "cell_type": "code",
      "source": [
        "files.download('output_vdsr.zip')"
      ],
      "execution_count": 0,
      "outputs": []
    },
    {
      "metadata": {
        "id": "YZ71IxpNYDDs",
        "colab_type": "text"
      },
      "cell_type": "markdown",
      "source": [
        "# Tensorboard Trial Code"
      ]
    },
    {
      "metadata": {
        "id": "bTsZwUQeYJg4",
        "colab_type": "code",
        "colab": {
          "autoexec": {
            "startup": false,
            "wait_interval": 0
          }
        }
      },
      "cell_type": "code",
      "source": [
        "LOG_DIR = 'data/log'\n",
        "get_ipython().system_raw(\n",
        "    'tensorboard --logdir {} --host 0.0.0.0 --port 6006 &'\n",
        "    .format(LOG_DIR)\n",
        ")"
      ],
      "execution_count": 0,
      "outputs": []
    },
    {
      "metadata": {
        "id": "-5a2ycJoYWo8",
        "colab_type": "code",
        "colab": {
          "autoexec": {
            "startup": false,
            "wait_interval": 0
          }
        }
      },
      "cell_type": "code",
      "source": [
        "! curl http://localhost:6006"
      ],
      "execution_count": 0,
      "outputs": []
    },
    {
      "metadata": {
        "id": "f-HXOuu9YZpw",
        "colab_type": "code",
        "colab": {
          "autoexec": {
            "startup": false,
            "wait_interval": 0
          }
        }
      },
      "cell_type": "code",
      "source": [
        "! wget https://bin.equinox.io/c/4VmDzA7iaHb/ngrok-stable-linux-amd64.zip > /dev/null 2>&1\n",
        "! unzip ngrok-stable-linux-amd64.zip > /dev/null 2>&1"
      ],
      "execution_count": 0,
      "outputs": []
    },
    {
      "metadata": {
        "id": "BjUOtxuzYbnB",
        "colab_type": "code",
        "colab": {
          "autoexec": {
            "startup": false,
            "wait_interval": 0
          }
        }
      },
      "cell_type": "code",
      "source": [
        "get_ipython().system_raw('./ngrok http 6006 &')"
      ],
      "execution_count": 0,
      "outputs": []
    },
    {
      "metadata": {
        "id": "6UpI7ifNYdMM",
        "colab_type": "code",
        "colab": {
          "autoexec": {
            "startup": false,
            "wait_interval": 0
          }
        }
      },
      "cell_type": "code",
      "source": [
        "! curl -s http://localhost:4040/api/tunnels | python3 -c \\\n",
        "    \"import sys, json; print(json.load(sys.stdin)['tunnels'][0]['public_url'])\""
      ],
      "execution_count": 0,
      "outputs": []
    },
    {
      "metadata": {
        "id": "3RcfAsl1Y8F1",
        "colab_type": "text"
      },
      "cell_type": "markdown",
      "source": [
        "## Trying LocalTunnel"
      ]
    },
    {
      "metadata": {
        "id": "I9O1fwr5ZAJG",
        "colab_type": "code",
        "colab": {
          "autoexec": {
            "startup": false,
            "wait_interval": 0
          }
        }
      },
      "cell_type": "code",
      "source": [
        "# Install\n",
        "! npm install -g localtunnel"
      ],
      "execution_count": 0,
      "outputs": []
    },
    {
      "metadata": {
        "id": "4zoZzVdHZCIR",
        "colab_type": "code",
        "colab": {
          "autoexec": {
            "startup": false,
            "wait_interval": 0
          }
        }
      },
      "cell_type": "code",
      "source": [
        "# Tunnel port 6006 (TensorBoard assumed running)\n",
        "get_ipython().system_raw('lt --port 6006 >> url.txt 2>&1')"
      ],
      "execution_count": 0,
      "outputs": []
    },
    {
      "metadata": {
        "id": "pVXHWPERZDrv",
        "colab_type": "code",
        "colab": {
          "autoexec": {
            "startup": false,
            "wait_interval": 0
          }
        }
      },
      "cell_type": "code",
      "source": [
        "# Get url\n",
        "!cat url.txt"
      ],
      "execution_count": 0,
      "outputs": []
    },
    {
      "metadata": {
        "id": "R3cxhN6YZFTK",
        "colab_type": "code",
        "colab": {
          "autoexec": {
            "startup": false,
            "wait_interval": 0
          }
        }
      },
      "cell_type": "code",
      "source": [
        "!ls"
      ],
      "execution_count": 0,
      "outputs": []
    },
    {
      "metadata": {
        "id": "czuA07ZNm352",
        "colab_type": "code",
        "colab": {
          "autoexec": {
            "startup": false,
            "wait_interval": 0
          }
        }
      },
      "cell_type": "code",
      "source": [
        "!cat /usr/local/cuda/version.txt"
      ],
      "execution_count": 0,
      "outputs": []
    },
    {
      "metadata": {
        "id": "n0pYgiGxoeli",
        "colab_type": "text"
      },
      "cell_type": "markdown",
      "source": [
        "### Another option"
      ]
    },
    {
      "metadata": {
        "id": "sXUM7D9knBoV",
        "colab_type": "code",
        "colab": {
          "autoexec": {
            "startup": false,
            "wait_interval": 0
          }
        }
      },
      "cell_type": "code",
      "source": [
        "from IPython.display import clear_output, Image, display, HTML\n",
        "import tensorflow as tf\n",
        "import numpy as np\n",
        "from google.colab import files\n",
        "\n",
        "def strip_consts(graph_def, max_const_size=32):\n",
        "    \"\"\"Strip large constant values from graph_def.\"\"\"\n",
        "    strip_def = tf.GraphDef()\n",
        "    for n0 in graph_def.node:\n",
        "        n = strip_def.node.add() \n",
        "        n.MergeFrom(n0)\n",
        "        if n.op == 'Const':\n",
        "            tensor = n.attr['value'].tensor\n",
        "            size = len(tensor.tensor_content)\n",
        "            if size > max_const_size:\n",
        "                tensor.tensor_content = \"<stripped %d bytes>\"%size\n",
        "    return strip_def\n",
        "\n",
        "def show_graph(graph_def, max_const_size=32):\n",
        "    \"\"\"Visualize TensorFlow graph.\"\"\"\n",
        "    if hasattr(graph_def, 'as_graph_def'):\n",
        "        graph_def = graph_def.as_graph_def()\n",
        "    strip_def = strip_consts(graph_def, max_const_size=max_const_size)\n",
        "    code = \"\"\"\n",
        "        <script>\n",
        "          function load() {{\n",
        "            document.getElementById(\"{id}\").pbtxt = {data};\n",
        "          }}\n",
        "        </script>\n",
        "        <link rel=\"import\" href=\"https://tensorboard.appspot.com/tf-graph-basic.build.html\" onload=load()>\n",
        "        <div style=\"height:600px\">\n",
        "          <tf-graph-basic id=\"{id}\"></tf-graph-basic>\n",
        "        </div>\n",
        "    \"\"\".format(data=repr(str(strip_def)), id='graph'+str(np.random.rand()))\n",
        "\n",
        "    iframe = \"\"\"\n",
        "        <iframe seamless style=\"width:1200px;height:620px;border:0\" srcdoc=\"{}\"></iframe>\n",
        "    \"\"\".format(code.replace('\"', '&quot;'))\n",
        "    display(HTML(iframe))"
      ],
      "execution_count": 0,
      "outputs": []
    },
    {
      "metadata": {
        "id": "LzTFZaTgoj-b",
        "colab_type": "code",
        "colab": {
          "autoexec": {
            "startup": false,
            "wait_interval": 0
          }
        }
      },
      "cell_type": "code",
      "source": [
        "\"\"\"Create a sample tensor\"\"\"\n",
        "#sample_placeholder= tf.placeholder(dtype=tf.float32) \n",
        "\"\"\"Show it\"\"\"\n",
        "graph_def = tf.get_default_graph().as_graph_def()\n",
        "show_graph(graph_def)"
      ],
      "execution_count": 0,
      "outputs": []
    },
    {
      "metadata": {
        "id": "hC52jgcIw6dV",
        "colab_type": "code",
        "colab": {
          "autoexec": {
            "startup": false,
            "wait_interval": 0
          }
        },
        "cellView": "both"
      },
      "cell_type": "code",
      "source": [
        ""
      ],
      "execution_count": 0,
      "outputs": []
    }
  ]
}